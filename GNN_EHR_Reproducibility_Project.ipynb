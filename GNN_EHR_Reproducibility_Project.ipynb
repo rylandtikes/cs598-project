{
 "cells": [
  {
   "cell_type": "markdown",
   "id": "055e6878",
   "metadata": {},
   "source": [
    "### This notebook reproduces:\n",
    "\n",
    "[Variationally Regularized Graph-based Representation Learning for Electronic Health Records](https://arxiv.org/abs/1912.03761).\n",
    "\n",
    "The code in this notebook is adpated from the original code included with the paper.\n",
    "\n",
    "[Paper Code](https://github.com/NYUMedML/GNN_for_EHR)\n"
   ]
  },
  {
   "cell_type": "markdown",
   "id": "b754feb1",
   "metadata": {},
   "source": [
    "### Prepare Datasets"
   ]
  },
  {
   "cell_type": "markdown",
   "id": "7e8b8ac1",
   "metadata": {},
   "source": [
    "### Prepare Mimic III Dataset"
   ]
  },
  {
   "cell_type": "markdown",
   "id": "65546b58",
   "metadata": {},
   "source": [
    "### Resolve TensorFlow Dependencies and setup environment to allow for GPU use (if applicable)\n",
    "\n",
    "[TensorFlow Setup](https://www.tensorflow.org/install/pip)"
   ]
  },
  {
   "cell_type": "code",
   "execution_count": null,
   "id": "2fce3921",
   "metadata": {},
   "outputs": [],
   "source": [
    "# Verify Nvidia Drivers setup\n",
    "!nvidia-smi"
   ]
  },
  {
   "cell_type": "code",
   "execution_count": null,
   "id": "25421d5d",
   "metadata": {},
   "outputs": [],
   "source": [
    "# Verify TensorFlow CPU setup\n",
    "!python3 -c \"import tensorflow as tf; print(tf.reduce_sum(tf.random.normal([1000, 1000])))\""
   ]
  },
  {
   "cell_type": "code",
   "execution_count": null,
   "id": "e5d09970",
   "metadata": {},
   "outputs": [],
   "source": [
    "# Verify TensorFlow GPU setup\n",
    "!python3 -c \"import tensorflow as tf; print(tf.config.list_physical_devices('GPU'))\""
   ]
  },
  {
   "cell_type": "code",
   "execution_count": null,
   "id": "d3b27a90",
   "metadata": {},
   "outputs": [],
   "source": [
    "# Install Dependencies from Original Code (Using the latest version)\n",
    "!pip install torch==2.0.0\n",
    "!pip install tqdm==4.65.0\n",
    "!pip install numpy==1.23.5\n",
    "!pip install scikit_learn==1.2.2\n",
    "!pip install matplotlib==3.7.0\n",
    "# tensorflow should already be installed\n",
    "!pip install tensorflow==2.12.0\n",
    "!pip install pandas==2.0.0\n",
    "!pip install scipy==1.10.1"
   ]
  },
  {
   "cell_type": "code",
   "execution_count": 4,
   "id": "431160a2",
   "metadata": {},
   "outputs": [
    {
     "name": "stdout",
     "output_type": "stream",
     "text": [
      "/bin/bash: /home/rtikes/anaconda3/envs/cs598-project-py39/lib/libtinfo.so.6: no version information available (required by /bin/bash)\n",
      "/bin/bash: /home/rtikes/anaconda3/envs/cs598-project-py39/lib/libtinfo.so.6: no version information available (required by /bin/bash)\n",
      "2023-04-08 14:29:45.271725: I tensorflow/core/platform/cpu_feature_guard.cc:182] This TensorFlow binary is optimized to use available CPU instructions in performance-critical operations.\n",
      "To enable the following instructions: AVX2 FMA, in other operations, rebuild TensorFlow with the appropriate compiler flags.\n",
      "2023-04-08 14:29:45.822837: W tensorflow/compiler/tf2tensorrt/utils/py_utils.cc:38] TF-TRT Warning: Could not find TensorRT\n",
      "Processing patient.csv\n",
      "0\n",
      "60000\n",
      "68076\n",
      "Processing admission diagnosis.csv\n",
      "170000\n",
      "Admission Diagnosis without Encounter ID: 450589\n",
      "Processing diagnosis.csv\n",
      "220000\n",
      "Diagnosis without Encounter ID: 2483092\n",
      "Processing treatment.csv\n",
      "310000\n",
      "Treatment without Encounter ID: 3372000\n",
      "Accepted treatments: 316745\n",
      "Filtered encounters due to duplicate codes: 0\n",
      "Filtered encounters due to thresholding: 0\n",
      "Average num_dx_ids: 8.253912\n",
      "Average num_treatments: 7.697826\n",
      "Average num_unique_dx_ids: 6.462268\n",
      "Average num_unique_treatments: 5.026276\n",
      "Min dx cut: 16670\n",
      "Min treatment cut: 10373\n",
      "Max dx cut: 1\n",
      "Max treatment cut: 6\n",
      "Number of readmission: 7051\n",
      "Split done.: 36000\n",
      "2023-04-08 14:30:06.917688: I tensorflow/compiler/xla/stream_executor/cuda/cuda_gpu_executor.cc:996] successful NUMA node read from SysFS had negative value (-1), but there must be at least one NUMA node, so returning NUMA node zero. See more at https://github.com/torvalds/linux/blob/v6.0/Documentation/ABI/testing/sysfs-bus-pci#L344-L355\n",
      "2023-04-08 14:30:06.940338: I tensorflow/compiler/xla/stream_executor/cuda/cuda_gpu_executor.cc:996] successful NUMA node read from SysFS had negative value (-1), but there must be at least one NUMA node, so returning NUMA node zero. See more at https://github.com/torvalds/linux/blob/v6.0/Documentation/ABI/testing/sysfs-bus-pci#L344-L355\n",
      "2023-04-08 14:30:06.940540: I tensorflow/compiler/xla/stream_executor/cuda/cuda_gpu_executor.cc:996] successful NUMA node read from SysFS had negative value (-1), but there must be at least one NUMA node, so returning NUMA node zero. See more at https://github.com/torvalds/linux/blob/v6.0/Documentation/ABI/testing/sysfs-bus-pci#L344-L355\n",
      "2023-04-08 14:30:06.941054: I tensorflow/compiler/xla/stream_executor/cuda/cuda_gpu_executor.cc:996] successful NUMA node read from SysFS had negative value (-1), but there must be at least one NUMA node, so returning NUMA node zero. See more at https://github.com/torvalds/linux/blob/v6.0/Documentation/ABI/testing/sysfs-bus-pci#L344-L355\n",
      "2023-04-08 14:30:06.941230: I tensorflow/compiler/xla/stream_executor/cuda/cuda_gpu_executor.cc:996] successful NUMA node read from SysFS had negative value (-1), but there must be at least one NUMA node, so returning NUMA node zero. See more at https://github.com/torvalds/linux/blob/v6.0/Documentation/ABI/testing/sysfs-bus-pci#L344-L355\n",
      "2023-04-08 14:30:06.941364: I tensorflow/compiler/xla/stream_executor/cuda/cuda_gpu_executor.cc:996] successful NUMA node read from SysFS had negative value (-1), but there must be at least one NUMA node, so returning NUMA node zero. See more at https://github.com/torvalds/linux/blob/v6.0/Documentation/ABI/testing/sysfs-bus-pci#L344-L355\n",
      "2023-04-08 14:30:07.445555: I tensorflow/compiler/xla/stream_executor/cuda/cuda_gpu_executor.cc:996] successful NUMA node read from SysFS had negative value (-1), but there must be at least one NUMA node, so returning NUMA node zero. See more at https://github.com/torvalds/linux/blob/v6.0/Documentation/ABI/testing/sysfs-bus-pci#L344-L355\n",
      "2023-04-08 14:30:07.445763: I tensorflow/compiler/xla/stream_executor/cuda/cuda_gpu_executor.cc:996] successful NUMA node read from SysFS had negative value (-1), but there must be at least one NUMA node, so returning NUMA node zero. See more at https://github.com/torvalds/linux/blob/v6.0/Documentation/ABI/testing/sysfs-bus-pci#L344-L355\n",
      "2023-04-08 14:30:07.445901: I tensorflow/compiler/xla/stream_executor/cuda/cuda_gpu_executor.cc:996] successful NUMA node read from SysFS had negative value (-1), but there must be at least one NUMA node, so returning NUMA node zero. See more at https://github.com/torvalds/linux/blob/v6.0/Documentation/ABI/testing/sysfs-bus-pci#L344-L355\n",
      "2023-04-08 14:30:07.446004: I tensorflow/core/common_runtime/gpu/gpu_device.cc:1635] Created device /job:localhost/replica:0/task:0/device:GPU:0 with 5281 MB memory:  -> device: 0, name: NVIDIA GeForce GTX 1060 6GB, pci bus id: 0000:02:00.0, compute capability: 6.1\n",
      "2023-04-08 14:30:07.594653: I tensorflow/core/common_runtime/executor.cc:1197] [/device:CPU:0] (DEBUG INFO) Executor start aborting (this does not indicate an error and you can ignore this message): INVALID_ARGUMENT: You must feed a value for placeholder tensor 'Placeholder/_0' with dtype string and shape [1]\n",
      "\t [[{{node Placeholder/_0}}]]\n",
      "2023-04-08 14:30:07.594882: I tensorflow/core/common_runtime/executor.cc:1197] [/device:CPU:0] (DEBUG INFO) Executor start aborting (this does not indicate an error and you can ignore this message): INVALID_ARGUMENT: You must feed a value for placeholder tensor 'Placeholder/_0' with dtype string and shape [1]\n",
      "\t [[{{node Placeholder/_0}}]]\n",
      "2023-04-08 14:30:52.145343: I tensorflow/core/common_runtime/executor.cc:1197] [/device:CPU:0] (DEBUG INFO) Executor start aborting (this does not indicate an error and you can ignore this message): INVALID_ARGUMENT: You must feed a value for placeholder tensor 'Placeholder/_0' with dtype string and shape [1]\n",
      "\t [[{{node Placeholder/_0}}]]\n",
      "2023-04-08 14:30:52.145574: I tensorflow/core/common_runtime/executor.cc:1197] [/device:CPU:0] (DEBUG INFO) Executor start aborting (this does not indicate an error and you can ignore this message): INVALID_ARGUMENT: You must feed a value for placeholder tensor 'Placeholder/_0' with dtype string and shape [1]\n",
      "\t [[{{node Placeholder/_0}}]]\n",
      "2023-04-08 14:30:57.773120: I tensorflow/core/common_runtime/executor.cc:1197] [/device:CPU:0] (DEBUG INFO) Executor start aborting (this does not indicate an error and you can ignore this message): INVALID_ARGUMENT: You must feed a value for placeholder tensor 'Placeholder/_0' with dtype string and shape [1]\n",
      "\t [[{{node Placeholder/_0}}]]\n",
      "2023-04-08 14:30:57.773425: I tensorflow/core/common_runtime/executor.cc:1197] [/device:CPU:0] (DEBUG INFO) Executor start aborting (this does not indicate an error and you can ignore this message): INVALID_ARGUMENT: You must feed a value for placeholder tensor 'Placeholder/_0' with dtype string and shape [1]\n",
      "\t [[{{node Placeholder/_0}}]]\n",
      "done\n"
     ]
    }
   ],
   "source": [
    "# preprocess eicu dataset\n",
    "eicu_dataset_path = \"/buckets/ehr/eicu\"\n",
    "eicu_storage_path = \"/buckets/ehr/eicu/out/\"\n",
    "!rm /buckets/ehr/eicu/out/*\n",
    "!python3 /home/rtikes/cs598-project/data/eicu/preprocess_eicu.py --input_path {eicu_dataset_path} --output_path {eicu_storage_path}\n",
    "\n"
   ]
  },
  {
   "cell_type": "code",
   "execution_count": 5,
   "id": "25316876",
   "metadata": {},
   "outputs": [
    {
     "name": "stdout",
     "output_type": "stream",
     "text": [
      "/bin/bash: /home/rtikes/anaconda3/envs/cs598-project-py39/lib/libtinfo.so.6: no version information available (required by /bin/bash)\n",
      "rm: cannot remove '/buckets/ehr/mimic/out/*': No such file or directory\n",
      "/bin/bash: /home/rtikes/anaconda3/envs/cs598-project-py39/lib/libtinfo.so.6: no version information available (required by /bin/bash)\n",
      "2023-04-08 14:36:43.040949: I tensorflow/core/platform/cpu_feature_guard.cc:182] This TensorFlow binary is optimized to use available CPU instructions in performance-critical operations.\n",
      "To enable the following instructions: AVX2 FMA, in other operations, rebuild TensorFlow with the appropriate compiler flags.\n",
      "2023-04-08 14:36:43.542832: W tensorflow/compiler/tf2tensorrt/utils/py_utils.cc:38] TF-TRT Warning: Could not find TensorRT\n",
      "58900\n",
      "46520\n",
      "50000\n",
      "650000\n",
      "Diagnosis without Encounter ID: 706\n",
      "230000\n",
      "Treatment without Encounter ID: 291\n"
     ]
    }
   ],
   "source": [
    "# preprocess MMIC III dataset\n",
    "mimic_dataset_path = \"/buckets/ehr/mimic\"\n",
    "mimic_storage_path = \"/buckets/ehr/mimic/out/\"\n",
    "!rm /buckets/ehr/mimic/out/*\n",
    "!python3 /home/rtikes/cs598-project/data/mimic/preprocess_mimic.py --input_path {mimic_dataset_path} --output_path {mimic_storage_path}\n",
    "\n"
   ]
  },
  {
   "cell_type": "code",
   "execution_count": null,
   "id": "81b360cc",
   "metadata": {},
   "outputs": [],
   "source": []
  }
 ],
 "metadata": {
  "kernelspec": {
   "display_name": "Python 3 (ipykernel)",
   "language": "python",
   "name": "python3"
  },
  "language_info": {
   "codemirror_mode": {
    "name": "ipython",
    "version": 3
   },
   "file_extension": ".py",
   "mimetype": "text/x-python",
   "name": "python",
   "nbconvert_exporter": "python",
   "pygments_lexer": "ipython3",
   "version": "3.9.16"
  }
 },
 "nbformat": 4,
 "nbformat_minor": 5
}
